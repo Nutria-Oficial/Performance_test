{
 "cells": [
  {
   "cell_type": "markdown",
   "id": "780ff185",
   "metadata": {},
   "source": [
    "<h1>Cálculos dos testes A/B</h1>"
   ]
  },
  {
   "cell_type": "code",
   "execution_count": null,
   "id": "6f0189e7",
   "metadata": {},
   "outputs": [],
   "source": [
    "# Imports para raiz quadrada, média, variância\n",
    "\n",
    "# pip install scipy\n",
    "\n",
    "import math\n",
    "import statistics\n",
    "import scipy.stats as st "
   ]
  },
  {
   "cell_type": "markdown",
   "id": "b11038e5",
   "metadata": {},
   "source": [
    "<h2>Dados Teste A</h2>"
   ]
  },
  {
   "cell_type": "code",
   "execution_count": null,
   "id": "15ce8d6b",
   "metadata": {},
   "outputs": [],
   "source": [
    "# Tempo de resolução de cada user\n",
    "tempos_resolucao_a = [73.44, 51.41, 29.79, 116.54, 22.2, 30.1, 87.9, 55.04, 35.78, 27.28,\n",
    "                      58.27, 48.98, 38.08, 36.88, 70.17, 68.17, 47.38, 41.88, 27.59, 45.98,\n",
    "                      42.95, 56.64, 57.75, 91.77, 38.03, 51.62, 114.94, 61.95, 88.05, 59.71,\n",
    "                      107.52, 71.88, 23.48, 85.53, 22.43, 92.78, 25.27, 106.93, 78.02, 41.08,\n",
    "                      29.19, 48.04, 18.38, 38.02, 36.44, 29.78, 31.98, 45.51, 28.75, 48.34,\n",
    "                      36.59, 33.57, 16.34, 40.91]\n",
    "\n",
    "# Variância amostral do tempo de resolução\n",
    "variancia_a = statistics.variance(tempos_resolucao_a)\n",
    "\n",
    "# Média do tempo de resolução em segundos\n",
    "tempo_medio_a = statistics.mean(tempos_resolucao_a) \n",
    "\n",
    "# Quantidade total amostras\n",
    "amostra_a = len(tempos_resolucao_a)"
   ]
  },
  {
   "cell_type": "markdown",
   "id": "31b8ae2a",
   "metadata": {},
   "source": [
    "<h2>Dados Teste B</h2>"
   ]
  },
  {
   "cell_type": "code",
   "execution_count": null,
   "id": "808de6bf",
   "metadata": {},
   "outputs": [
    {
     "name": "stdout",
     "output_type": "stream",
     "text": [
      "42.87148148148148\n"
     ]
    }
   ],
   "source": [
    "# Tempo de resolução de cada user\n",
    "tempos_resolucao_b = [27.7, 39.11, 47.55, 30.01, 12.73, 26.68, 117.26, 27.83, 35.76, 37.71,\n",
    "                      43.88, 25.79, 60.66, 69.92, 56.19, 33.83, 45.09, 45.18, 24.43, 63.32,\n",
    "                      88.99, 23.82, 49.35, 63.16, 70.2, 35.44, 47.02, 22.52, 72.41, 19.77,\n",
    "                      36.41, 48.3, 91.62, 41.39, 47.95, 81.1, 20.3, 18.73, 66.64, 17.3,\n",
    "                      8.24, 32.44, 36.86, 31.6, 34.85, 36.05, 24.28, 29.86, 53.04, 38.45,\n",
    "                      43.78, 24.45, 51.3, 36.81]\n",
    "\n",
    "# Variância amostral do tempo de resolução\n",
    "variancia_b = statistics.variance(tempos_resolucao_b)\n",
    "\n",
    "# Média do tempo de resolução em segundos\n",
    "tempo_medio_b = statistics.mean(tempos_resolucao_b) \n",
    "\n",
    "# Quantidade total de amostras\n",
    "amostra_b = len(tempos_resolucao_b)"
   ]
  },
  {
   "cell_type": "markdown",
   "id": "4064dc16",
   "metadata": {},
   "source": [
    "<h2>Z Test</h2>"
   ]
  },
  {
   "cell_type": "code",
   "execution_count": 4,
   "id": "c4cd703b",
   "metadata": {},
   "outputs": [],
   "source": [
    "# XA e XB: São as médias de tempo.\n",
    "numerador = (tempo_medio_a - tempo_medio_b)\n",
    "\n",
    "# S²A e S²B: São as variâncias\n",
    "# NA e NB: São o tamanho das amostras\n",
    "denominador = (variancia_a/amostra_a)  +  (variancia_b/amostra_b)\n",
    "\n",
    "# Raiz: math.sqrt()\n",
    "denominador = math.sqrt(denominador)\n",
    "\n",
    "z = (numerador / denominador)\n"
   ]
  },
  {
   "cell_type": "markdown",
   "id": "546883e0",
   "metadata": {},
   "source": [
    "<h2>Conclusão</h2>"
   ]
  },
  {
   "cell_type": "code",
   "execution_count": null,
   "id": "3f25c66c",
   "metadata": {},
   "outputs": [],
   "source": [
    "try:\n",
    "    confianca = int(input(\"Qual o intervalo de confiança? (1-99)\\n\"))\n",
    "\n",
    "    if 0 < confianca < 100:\n",
    "        significancia_percentual = 100 - confianca\n",
    "        significancia = significancia_percentual / 100.0        \n",
    "        print(f\"Intervalo de Confiança: {confianca}%\")\n",
    "        print(f\"Nível de Significância: {significancia}\")\n",
    "\n",
    "        z_critico = st.norm.ppf(1 - significancia / 2)\n",
    "        print(f\"Z-Crítico aproximado: {z_critico:.4f}\")\n",
    "\n",
    "        print(\"\\n\\033[94mConclusão do Teste\\033[0m\")\n",
    "        \n",
    "        if z > 0:\n",
    "            # tempo_medio_a > tempo_medio_b\n",
    "            performance = \"O Teste B performou melhor\"\n",
    "            vencedor = \"o Teste B\"\n",
    "        elif z < 0:\n",
    "            # tempo_medio_a < tempo_medio_b\n",
    "            performance = \"O Teste A performou melhor\"\n",
    "            vencedor = \"o Teste A\"\n",
    "        else:\n",
    "            performance = \"Ambos os testes tiveram a mesma performance média\"\n",
    "            vencedor = \"nenhum teste\"\n",
    "        \n",
    "        if abs(z) > z_critico:\n",
    "            # SIGNIFICATIVO\n",
    "            print(\"\\033[92m Resultado: A diferença entre os grupos é estatisticamente significativa.\\033[0m\")\n",
    "            print(f\"  Performance: {performance}.\")\n",
    "            print(f\"  Justificativa: O Z-Score ({abs(z):.2f}) é maior que o Z-Crítico ({z_critico:.2f}).\")\n",
    "            print(f\"  Conclusão: Podemos afirmar com {confianca}% de confiança que {vencedor} teve melhor performace.\")\n",
    "        \n",
    "        else:\n",
    "            # NÃO SIGNIFICATIVO\n",
    "            print(\"\\033[92m Resultado: A diferença entre os grupos não é estatisticamente significativa.\\033[0m\")\n",
    "            print(f\"  Performance: {performance}, porém a diferença não é significativa.\")\n",
    "            print(f\"  Justificativa: O Z-Score ({abs(z):.2f}) é menor ou igual ao Z-Crítico ({z_critico:.2f}).\")\n",
    "            print(f\"  Conclusão: Embora {vencedor} pareça ser mais rápido, não temos evidência estatística para provar que isso não foi por acaso.\")\n",
    "            \n",
    "    else:\n",
    "        print(\"Tente novamente! Insira um número entre 1 e 99.\")\n",
    "        \n",
    "except ValueError:\n",
    "    print(\"Tente novamente! Digite apenas números.\")"
   ]
  },
  {
   "cell_type": "markdown",
   "id": "919d34c4",
   "metadata": {},
   "source": [
    "<h1 style=\"text-align: center;\">Relatório de Teste de Usabilidade (A/B)</h1>\n",
    "\n",
    "<h2 style=\"color: #FF5733;\">1. Introdução e Contexto</h2>\n",
    "<hr>\n",
    "<p>Este teste A/B foi proposto para validar se um novo design e fluxo (Teste B), focado em simplicidade e clareza, poderia melhorar as métricas de performance.</p>\n",
    "\n",
    "<h2 style=\"color: #FF5733;\">2. Hipótese</h2>\n",
    "<hr>\n",
    "<p>Nossa hipótese era que o <strong>Fluxo B</strong>, com menos telas, uma paleta de cores ajustada e botões reorganizados, resultaria em uma redução estatisticamente significativa no tempo médio de conclusão da tarefa e em uma menor percepção de dificuldade por parte dos usuários.</p>\n",
    "\n",
    "<h2 style=\"color: #FF5733;\">3. Metodologia: O que mudou (Fluxo B)</h2>\n",
    "<hr>\n",
    "<p>As principais mudanças implementadas no Fluxo B (comparado ao Fluxo A) incluem:</p>\n",
    "<ul>\n",
    "  <li>\n",
    "    <strong>Redução no número de telas:</strong> O objetivo foi diminuir a insegurança e aumentar a confiança do usuário durante o processo.\n",
    "  </li>\n",
    "  <li>\n",
    "    <strong>Ajuste na paleta de cores:</strong> O tom de laranja principal foi escurecido, buscando uma semelhança com o pôr do sol para maior conforto visual.\n",
    "  </li>\n",
    "  <li>\n",
    "    <strong>Reorganização de botões:</strong> A ordem de alguns elementos foi alterada para criar um fluxo de navegação mais lógico e agradável.\n",
    "  </li>\n",
    "</ul>\n",
    "\n",
    "<h2 style=\"color: #FF5733;\">4. Coleta de Dados (Amostra)</h2>\n",
    "<hr>\n",
    "<p>O público-alvo dos testes incluiu pessoas de 16 a 40 anos. Obtivemos um total de 100 amostras, compostas por: 10 participantes ligados ao próprio negócio (engenheiros de alimentos e pessoas próximas), colaboradores da empresa PicPay e alunos profissionais selecionados do Instituto J&F.</p>\n",
    "\n",
    "<h2 style=\"color: #FF5733;\">5. Resultados Quantitativos (Métricas)</h2>\n",
    "<hr>\n",
    "<p>Para a análise, comparamos a média de tempo gasto em cada fluxo. Utilizamos um <strong>intervalo de confiança de 95%</strong>, o que significa que temos 95% de certeza de que a diferença observada é real e não obra do acaso.</p>\n",
    "<p>Os resultados de tempo médio foram:</p>\n",
    "<ul>\n",
    "  <li><strong>Fluxo A (Controle):</strong> 52.09 segundos</li>\n",
    "  <li><strong>Fluxo B (Variante):</strong> 42.87 segundos</li>\n",
    "</ul>\n",
    "<p>Considerando este intervalo de confiança, podemos afirmar que o <strong>Teste B teve uma performance superior</strong>, apresentando uma redução de aproximadamente 17,7% no tempo médio de conclusão.</p>\n",
    "\n",
    "<h2 style=\"color: #FF5733;\">6. Resultados Qualitativos (Observações)</h2>\n",
    "<hr>\n",
    "<p>Embora o Fluxo B tenha sido numericamente superior, observamos alguns pontos de atenção:</p>\n",
    "<p>Alguns participantes demonstraram dificuldade considerável (os <i>outliers</i>). Isso ocorreu mesmo no Fluxo B. Usuários ficaram perdidos na tela inicial.</p>\n",
    "<p>Por outro lado, uma parte dos usuários apresentou extrema facilidade, concluindo as tarefas propostas em poucos segundos. Isso demonstra que a amostra de testes foi bastante diversificada em termos de habilidade.</p>\n",
    "\n",
    "<h2 style=\"color: #FF5733;\">7. Conclusão e Próximos Passos</h2>\n",
    "<hr>\n",
    "<p><strong>Decisão:</strong> O Teste B é o vencedor. Recomendamos a implementação do Fluxo B para 100% dos usuários.</p>\n",
    "<p><strong>Ações Futuras (Próximos Passos):</strong></p>\n",
    "<ul>\n",
    "  <li>Antes do lançamento final, faremos um ajuste nos itens citados para mitigar o problema.</li>\n",
    "</ul>"
   ]
  }
 ],
 "metadata": {
  "kernelspec": {
   "display_name": "Python 3",
   "language": "python",
   "name": "python3"
  },
  "language_info": {
   "codemirror_mode": {
    "name": "ipython",
    "version": 3
   },
   "file_extension": ".py",
   "mimetype": "text/x-python",
   "name": "python",
   "nbconvert_exporter": "python",
   "pygments_lexer": "ipython3",
   "version": "3.13.5"
  }
 },
 "nbformat": 4,
 "nbformat_minor": 5
}
